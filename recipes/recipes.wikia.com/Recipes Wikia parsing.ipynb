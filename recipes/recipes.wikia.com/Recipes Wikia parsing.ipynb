{
 "cells": [
  {
   "cell_type": "code",
   "execution_count": 18,
   "metadata": {
    "collapsed": false
   },
   "outputs": [
    {
     "data": {
      "text/plain": [
       "224444"
      ]
     },
     "execution_count": 18,
     "metadata": {},
     "output_type": "execute_result"
    }
   ],
   "source": [
    "require 'nokogiri'\n",
    "require 'nyaplot'\n",
    "@doc = Nokogiri::XML(File.open(\"Recipes+Wiki-20160220213729.xml\"))\n",
    "@doc.remove_namespaces!\n",
    "pages = @doc.xpath(\"//page\")\n",
    "\n",
    "@all_ingredients = Hash.new\n",
    "\n",
    "\n",
    "def filter_ingredients(ingredients)\n",
    "  ingredients.map! &:downcase\n",
    "  ingredients.uniq!\n",
    "end\n",
    "\n",
    "def parse_wikia_recipe(text)\n",
    "  ingredients = []\n",
    "\n",
    "  text.each_line do |line|\n",
    "    if line.start_with?(\"*\")\n",
    "      line.scan(/\\[\\[(\\w*-?\\s?\\w*)\\]\\]|\\[\\[(\\w*-?\\s?\\w*)\\|/) do |ingredient|\n",
    "        if not $1.nil?\n",
    "          ingredients.push($1)\n",
    "        end\n",
    "        if not $2.nil?\n",
    "          ingredients.push($2)\n",
    "        end\n",
    "      end\n",
    "    end\n",
    "  end\n",
    "  if ingredients.length == 0\n",
    "  end\n",
    "  filter_ingredients(ingredients)\n",
    "  ingredients.each do |ing|\n",
    "    if @all_ingredients.has_key? ing\n",
    "      @all_ingredients[ing] += 1\n",
    "    else\n",
    "      @all_ingredients[ing] = 0\n",
    "    end\n",
    "  end\n",
    "  return ingredients\n",
    "\n",
    "end\n",
    "\n",
    "builder = Nokogiri::XML::Builder.new do |xml|\n",
    "  xml.root {\n",
    "\n",
    "    xml.salads {\n",
    "\n",
    "      pages.each_with_index do |page, pi|\n",
    "        if not page.xpath(\"//title\")[pi].text.start_with? \"Category:\"\n",
    "          xml.salad {\n",
    "            xml.title page.xpath(\"//title\")[pi].text\n",
    "            xml.ingredients {\n",
    "              parse_wikia_recipe(page.xpath(\"//text\")[pi].text).each do |ingredient|\n",
    "                xml.ingedient ingredient\n",
    "              end\n",
    "            }\n",
    "          }\n",
    "        end\n",
    "      end\n",
    "    }\n",
    "  }\n",
    "end\n",
    "File.open('tossr.xml', 'w') { |file| file.write(builder.to_xml) }"
   ]
  },
  {
   "cell_type": "code",
   "execution_count": 43,
   "metadata": {
    "collapsed": false
   },
   "outputs": [
    {
     "data": {
      "text/html": [
       "<div id='vis-32f44269-3bdd-4e30-9ec0-ff520834e5be'></div>\n",
       "<script>\n",
       "(function(){\n",
       "    var render = function(){\n",
       "        var model = {\"panes\":[{\"diagrams\":[{\"type\":\"bar\",\"options\":{\"x\":\"data0\",\"y\":\"data1\"},\"data\":\"a9e9a1e7-99f1-4aa3-b157-1e5be8271ca6\"}],\"options\":{\"rotate_x_label\":-50,\"x_label\":\"\",\"y_label\":\"Number of hits\",\"width\":700,\"xrange\":[\"tomato\",\"cucumber\",\"onion\",\"salt\",\"olive oil\",\"mayonnaise\",\"yogurt\",\"lemon juice\",\"pepper\",\"cilantro\",\"lettuce\",\"vegetable oil\",\"granulated sugar\",\"black pepper\",\"carrot\",\"balsamic vinegar\",\"water\",\"red onion\",\"garlic\",\"chicken\",\"apple\",\"celery\",\"sour cream\",\"lime juice\",\"honey\",\"basil\",\"green onions\",\"spinach\",\"mustard\",\"vinegar\",\"parsley\",\"egg\",\"rice\",\"walnuts\"],\"yrange\":[0,252]}}],\"data\":{\"a9e9a1e7-99f1-4aa3-b157-1e5be8271ca6\":[{\"data0\":\"tomato\",\"data1\":83},{\"data0\":\"cucumber\",\"data1\":38},{\"data0\":\"onion\",\"data1\":79},{\"data0\":\"salt\",\"data1\":252},{\"data0\":\"olive oil\",\"data1\":130},{\"data0\":\"mayonnaise\",\"data1\":95},{\"data0\":\"yogurt\",\"data1\":31},{\"data0\":\"lemon juice\",\"data1\":99},{\"data0\":\"pepper\",\"data1\":109},{\"data0\":\"cilantro\",\"data1\":38},{\"data0\":\"lettuce\",\"data1\":78},{\"data0\":\"vegetable oil\",\"data1\":36},{\"data0\":\"granulated sugar\",\"data1\":64},{\"data0\":\"black pepper\",\"data1\":97},{\"data0\":\"carrot\",\"data1\":38},{\"data0\":\"balsamic vinegar\",\"data1\":29},{\"data0\":\"water\",\"data1\":50},{\"data0\":\"red onion\",\"data1\":60},{\"data0\":\"garlic\",\"data1\":90},{\"data0\":\"chicken\",\"data1\":45},{\"data0\":\"apple\",\"data1\":32},{\"data0\":\"celery\",\"data1\":94},{\"data0\":\"sour cream\",\"data1\":33},{\"data0\":\"lime juice\",\"data1\":27},{\"data0\":\"honey\",\"data1\":29},{\"data0\":\"basil\",\"data1\":29},{\"data0\":\"green onions\",\"data1\":57},{\"data0\":\"spinach\",\"data1\":40},{\"data0\":\"mustard\",\"data1\":26},{\"data0\":\"vinegar\",\"data1\":47},{\"data0\":\"parsley\",\"data1\":46},{\"data0\":\"egg\",\"data1\":39},{\"data0\":\"rice\",\"data1\":73},{\"data0\":\"walnuts\",\"data1\":27}]},\"extension\":[]}\n",
       "        var id_name = '#vis-32f44269-3bdd-4e30-9ec0-ff520834e5be';\n",
       "        Nyaplot.core.parse(model, id_name);\n",
       "\n",
       "        require(['downloadable'], function(downloadable){\n",
       "          var svg = d3.select(id_name).select(\"svg\");\n",
       "\t  if(!svg.empty())\n",
       "\t    svg.call(downloadable().filename('fig'));\n",
       "\t});\n",
       "    };\n",
       "    if(window['Nyaplot']==undefined){\n",
       "        window.addEventListener('load_nyaplot', render, false);\n",
       "\treturn;\n",
       "    } else {\n",
       "       render();\n",
       "    }\n",
       "})();\n",
       "</script>\n"
      ],
      "text/plain": [
       "#<Nyaplot::Frame:0x000000089ffbc0 @properties={:panes=>[#<Nyaplot::Plot:0x000000074429e0 @properties={:diagrams=>[#<Nyaplot::Diagram:0x000000089fde88 @properties={:type=>:bar, :options=>{:x=>\"data0\", :y=>\"data1\"}, :data=>\"a9e9a1e7-99f1-4aa3-b157-1e5be8271ca6\"}, @xrange=[\"tomato\", \"cucumber\", \"onion\", \"salt\", \"olive oil\", \"mayonnaise\", \"yogurt\", \"lemon juice\", \"pepper\", \"cilantro\", \"lettuce\", \"vegetable oil\", \"granulated sugar\", \"black pepper\", \"carrot\", \"balsamic vinegar\", \"water\", \"red onion\", \"garlic\", \"chicken\", \"apple\", \"celery\", \"sour cream\", \"lime juice\", \"honey\", \"basil\", \"green onions\", \"spinach\", \"mustard\", \"vinegar\", \"parsley\", \"egg\", \"rice\", \"walnuts\"], @yrange=[0, 252]>], :options=>{:rotate_x_label=>-50, :x_label=>\"\", :y_label=>\"Number of hits\", :width=>700, :xrange=>[\"tomato\", \"cucumber\", \"onion\", \"salt\", \"olive oil\", \"mayonnaise\", \"yogurt\", \"lemon juice\", \"pepper\", \"cilantro\", \"lettuce\", \"vegetable oil\", \"granulated sugar\", \"black pepper\", \"carrot\", \"balsamic vinegar\", \"water\", \"red onion\", \"garlic\", \"chicken\", \"apple\", \"celery\", \"sour cream\", \"lime juice\", \"honey\", \"basil\", \"green onions\", \"spinach\", \"mustard\", \"vinegar\", \"parsley\", \"egg\", \"rice\", \"walnuts\"], :yrange=>[0, 252]}}>], :data=>{\"a9e9a1e7-99f1-4aa3-b157-1e5be8271ca6\"=>#<Nyaplot::DataFrame:0x00000007442418 @name=\"a9e9a1e7-99f1-4aa3-b157-1e5be8271ca6\", @rows=[{:data0=>\"tomato\", :data1=>83}, {:data0=>\"cucumber\", :data1=>38}, {:data0=>\"onion\", :data1=>79}, {:data0=>\"salt\", :data1=>252}, {:data0=>\"olive oil\", :data1=>130}, {:data0=>\"mayonnaise\", :data1=>95}, {:data0=>\"yogurt\", :data1=>31}, {:data0=>\"lemon juice\", :data1=>99}, {:data0=>\"pepper\", :data1=>109}, {:data0=>\"cilantro\", :data1=>38}, {:data0=>\"lettuce\", :data1=>78}, {:data0=>\"vegetable oil\", :data1=>36}, {:data0=>\"granulated sugar\", :data1=>64}, {:data0=>\"black pepper\", :data1=>97}, {:data0=>\"carrot\", :data1=>38}, {:data0=>\"balsamic vinegar\", :data1=>29}, {:data0=>\"water\", :data1=>50}, {:data0=>\"red onion\", :data1=>60}, {:data0=>\"garlic\", :data1=>90}, {:data0=>\"chicken\", :data1=>45}, {:data0=>\"apple\", :data1=>32}, {:data0=>\"celery\", :data1=>94}, {:data0=>\"sour cream\", :data1=>33}, {:data0=>\"lime juice\", :data1=>27}, {:data0=>\"honey\", :data1=>29}, {:data0=>\"basil\", :data1=>29}, {:data0=>\"green onions\", :data1=>57}, {:data0=>\"spinach\", :data1=>40}, {:data0=>\"mustard\", :data1=>26}, {:data0=>\"vinegar\", :data1=>47}, {:data0=>\"parsley\", :data1=>46}, {:data0=>\"egg\", :data1=>39}, {:data0=>\"rice\", :data1=>73}, {:data0=>\"walnuts\", :data1=>27}]>}, :extension=>[]}>"
      ]
     },
     "metadata": {},
     "output_type": "display_data"
    },
    {
     "name": "stdout",
     "output_type": "stream",
     "text": [
      "\n"
     ]
    }
   ],
   "source": [
    "# plot ingredients\n",
    "plot = Nyaplot::Plot.new\n",
    "\n",
    "ings = []\n",
    "counts = []\n",
    "@all_ingredients.each_pair do |ing, count|\n",
    "  if count > 25\n",
    "    ings.push ing\n",
    "    counts.push count\n",
    "  end\n",
    "end\n",
    "\n",
    "plot.add(:bar, ings, counts)\n",
    "plot.rotate_x_label(-50)\n",
    "plot.x_label(\"\")\n",
    "plot.y_label(\"Number of hits\")\n",
    "# plot.height(900)\n",
    "# plot.width(700)\n",
    "plot.show\n",
    "\n",
    "puts"
   ]
  },
  {
   "cell_type": "code",
   "execution_count": null,
   "metadata": {
    "collapsed": true
   },
   "outputs": [],
   "source": []
  }
 ],
 "metadata": {
  "kernelspec": {
   "display_name": "Ruby 2.2.3",
   "language": "ruby",
   "name": "ruby"
  },
  "language_info": {
   "file_extension": ".rb",
   "mimetype": "application/x-ruby",
   "name": "ruby",
   "version": "2.2.3"
  }
 },
 "nbformat": 4,
 "nbformat_minor": 0
}
